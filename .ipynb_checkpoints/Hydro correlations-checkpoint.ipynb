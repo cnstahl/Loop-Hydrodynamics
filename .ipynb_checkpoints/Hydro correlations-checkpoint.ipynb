{
 "cells": [
  {
   "cell_type": "code",
   "execution_count": 35,
   "id": "02714d88-985b-4c78-9d08-1a80c4a2853e",
   "metadata": {},
   "outputs": [],
   "source": [
    "import numpy as np\n",
    "import matplotlib.pyplot as plt\n",
    "import pandas as pd\n",
    "import time\n",
    "from scipy.stats import bootstrap\n",
    "from numpy.fft import fft2, ifft2"
   ]
  },
  {
   "cell_type": "code",
   "execution_count": 36,
   "id": "d4eb09cf-d80e-44e8-8d18-8c014e2c5a3c",
   "metadata": {},
   "outputs": [],
   "source": [
    "def fft_convolve2d(x,y):\n",
    "    \"\"\" 2D convolution, using FFT\"\"\"\n",
    "    fr = fft2(x)\n",
    "    fr2 = fft2(y)\n",
    "    m,n = fr.shape\n",
    "    cc = np.real(ifft2(fr*fr2))\n",
    "    # cc = np.roll(cc, -m/2+1,axis=0)\n",
    "    # cc = np.roll(cc, -n/2+1,axis=1)\n",
    "    return cc"
   ]
  },
  {
   "cell_type": "code",
   "execution_count": 23,
   "id": "d1bf9681-5d04-41fa-856e-68ac81761ae8",
   "metadata": {},
   "outputs": [],
   "source": [
    "rhos = pd.read_csv('data/full_print10by10.dat', header=None, skiprows=1).to_numpy()[:, :-1]\n",
    "rhos = rhos.reshape((1000, 20, 10))[:,::2,:]"
   ]
  },
  {
   "cell_type": "code",
   "execution_count": 24,
   "id": "a4df2a03-06da-4ca3-9663-759b568d89c7",
   "metadata": {},
   "outputs": [
    {
     "data": {
      "text/plain": [
       "(1000, 10, 10)"
      ]
     },
     "execution_count": 24,
     "metadata": {},
     "output_type": "execute_result"
    }
   ],
   "source": [
    "np.shape(rhos)"
   ]
  },
  {
   "cell_type": "code",
   "execution_count": 25,
   "id": "16ff3662-c960-4e7b-805a-52a05b59a0c6",
   "metadata": {},
   "outputs": [
    {
     "data": {
      "text/plain": [
       "array([[1, 1, 1, 1, 1, 1, 1, 1, 1, 1],\n",
       "       [0, 0, 1, 1, 1, 1, 2, 2, 2, 2],\n",
       "       [0, 0, 0, 1, 2, 2, 1, 1, 1, 0],\n",
       "       [0, 0, 2, 2, 1, 1, 1, 2, 2, 1],\n",
       "       [1, 1, 1, 1, 2, 2, 0, 0, 1, 1],\n",
       "       [1, 1, 1, 1, 1, 2, 2, 2, 2, 1],\n",
       "       [2, 1, 0, 0, 0, 0, 1, 1, 1, 2],\n",
       "       [2, 2, 1, 1, 1, 1, 0, 0, 1, 1],\n",
       "       [1, 1, 1, 1, 1, 2, 2, 0, 0, 1],\n",
       "       [1, 1, 0, 0, 1, 1, 1, 1, 2, 2]], dtype=object)"
      ]
     },
     "execution_count": 25,
     "metadata": {},
     "output_type": "execute_result"
    }
   ],
   "source": [
    "rhos[0]"
   ]
  },
  {
   "cell_type": "code",
   "execution_count": 29,
   "id": "323f1a2e-156e-4805-b672-dc3582cc3760",
   "metadata": {},
   "outputs": [
    {
     "ename": "ValueError",
     "evalue": "convolve2d not available for this type.",
     "output_type": "error",
     "traceback": [
      "\u001b[0;31m---------------------------------------------------------------------------\u001b[0m",
      "\u001b[0;31mValueError\u001b[0m                                Traceback (most recent call last)",
      "Cell \u001b[0;32mIn[29], line 3\u001b[0m\n\u001b[1;32m      1\u001b[0m totals \u001b[38;5;241m=\u001b[39m np\u001b[38;5;241m.\u001b[39mzeros((\u001b[38;5;241m21\u001b[39m,\u001b[38;5;241m21\u001b[39m))\n\u001b[1;32m      2\u001b[0m \u001b[38;5;28;01mfor\u001b[39;00m i \u001b[38;5;129;01min\u001b[39;00m \u001b[38;5;28mrange\u001b[39m(\u001b[38;5;28mlen\u001b[39m(rhos) \u001b[38;5;241m-\u001b[39m \u001b[38;5;241m1\u001b[39m):\n\u001b[0;32m----> 3\u001b[0m     totals \u001b[38;5;241m+\u001b[39m\u001b[38;5;241m=\u001b[39m \u001b[43mscipy\u001b[49m\u001b[38;5;241;43m.\u001b[39;49m\u001b[43msignal\u001b[49m\u001b[38;5;241;43m.\u001b[39;49m\u001b[43mcorrelate2d\u001b[49m\u001b[43m(\u001b[49m\u001b[43mrhos\u001b[49m\u001b[43m[\u001b[49m\u001b[43mi\u001b[49m\u001b[43m]\u001b[49m\u001b[43m,\u001b[49m\u001b[43m \u001b[49m\u001b[43mrhos\u001b[49m\u001b[43m[\u001b[49m\u001b[43mi\u001b[49m\u001b[38;5;241;43m+\u001b[39;49m\u001b[38;5;241;43m1\u001b[39;49m\u001b[43m]\u001b[49m\u001b[43m)\u001b[49m\n",
      "File \u001b[0;32m/usr/local/lib/python3.11/site-packages/scipy/signal/_signaltools.py:1850\u001b[0m, in \u001b[0;36mcorrelate2d\u001b[0;34m(in1, in2, mode, boundary, fillvalue)\u001b[0m\n\u001b[1;32m   1848\u001b[0m val \u001b[38;5;241m=\u001b[39m _valfrommode(mode)\n\u001b[1;32m   1849\u001b[0m bval \u001b[38;5;241m=\u001b[39m _bvalfromboundary(boundary)\n\u001b[0;32m-> 1850\u001b[0m out \u001b[38;5;241m=\u001b[39m \u001b[43m_sigtools\u001b[49m\u001b[38;5;241;43m.\u001b[39;49m\u001b[43m_convolve2d\u001b[49m\u001b[43m(\u001b[49m\u001b[43min1\u001b[49m\u001b[43m,\u001b[49m\u001b[43m \u001b[49m\u001b[43min2\u001b[49m\u001b[38;5;241;43m.\u001b[39;49m\u001b[43mconj\u001b[49m\u001b[43m(\u001b[49m\u001b[43m)\u001b[49m\u001b[43m,\u001b[49m\u001b[43m \u001b[49m\u001b[38;5;241;43m0\u001b[39;49m\u001b[43m,\u001b[49m\u001b[43m \u001b[49m\u001b[43mval\u001b[49m\u001b[43m,\u001b[49m\u001b[43m \u001b[49m\u001b[43mbval\u001b[49m\u001b[43m,\u001b[49m\u001b[43m \u001b[49m\u001b[43mfillvalue\u001b[49m\u001b[43m)\u001b[49m\n\u001b[1;32m   1852\u001b[0m \u001b[38;5;28;01mif\u001b[39;00m swapped_inputs:\n\u001b[1;32m   1853\u001b[0m     out \u001b[38;5;241m=\u001b[39m out[::\u001b[38;5;241m-\u001b[39m\u001b[38;5;241m1\u001b[39m, ::\u001b[38;5;241m-\u001b[39m\u001b[38;5;241m1\u001b[39m]\n",
      "\u001b[0;31mValueError\u001b[0m: convolve2d not available for this type."
     ]
    }
   ],
   "source": [
    "totals = np.zeros((21,21))\n",
    "for i in range(len(rhos) - 1):\n",
    "    totals += scipy.signal.correlate2d(rhos[i], rhos[i+1])"
   ]
  },
  {
   "cell_type": "code",
   "execution_count": 37,
   "id": "ff2c43ed-d091-49f0-b39a-c37c8668fbbe",
   "metadata": {},
   "outputs": [
    {
     "ename": "TypeError",
     "evalue": "slice indices must be integers or None or have an __index__ method",
     "output_type": "error",
     "traceback": [
      "\u001b[0;31m---------------------------------------------------------------------------\u001b[0m",
      "\u001b[0;31mTypeError\u001b[0m                                 Traceback (most recent call last)",
      "Cell \u001b[0;32mIn[37], line 1\u001b[0m\n\u001b[0;32m----> 1\u001b[0m \u001b[43mfft_convolve2d\u001b[49m\u001b[43m(\u001b[49m\u001b[43mrhos\u001b[49m\u001b[43m[\u001b[49m\u001b[38;5;241;43m0\u001b[39;49m\u001b[43m]\u001b[49m\u001b[43m,\u001b[49m\u001b[43m \u001b[49m\u001b[43mrhos\u001b[49m\u001b[43m[\u001b[49m\u001b[38;5;241;43m1\u001b[39;49m\u001b[43m]\u001b[49m\u001b[43m)\u001b[49m\n",
      "Cell \u001b[0;32mIn[36], line 7\u001b[0m, in \u001b[0;36mfft_convolve2d\u001b[0;34m(x, y)\u001b[0m\n\u001b[1;32m      5\u001b[0m m,n \u001b[38;5;241m=\u001b[39m fr\u001b[38;5;241m.\u001b[39mshape\n\u001b[1;32m      6\u001b[0m cc \u001b[38;5;241m=\u001b[39m np\u001b[38;5;241m.\u001b[39mreal(ifft2(fr\u001b[38;5;241m*\u001b[39mfr2))\n\u001b[0;32m----> 7\u001b[0m cc \u001b[38;5;241m=\u001b[39m \u001b[43mnp\u001b[49m\u001b[38;5;241;43m.\u001b[39;49m\u001b[43mroll\u001b[49m\u001b[43m(\u001b[49m\u001b[43mcc\u001b[49m\u001b[43m,\u001b[49m\u001b[43m \u001b[49m\u001b[38;5;241;43m-\u001b[39;49m\u001b[43mm\u001b[49m\u001b[38;5;241;43m/\u001b[39;49m\u001b[38;5;241;43m2\u001b[39;49m\u001b[38;5;241;43m+\u001b[39;49m\u001b[38;5;241;43m1\u001b[39;49m\u001b[43m,\u001b[49m\u001b[43maxis\u001b[49m\u001b[38;5;241;43m=\u001b[39;49m\u001b[38;5;241;43m0\u001b[39;49m\u001b[43m)\u001b[49m\n\u001b[1;32m      8\u001b[0m cc \u001b[38;5;241m=\u001b[39m np\u001b[38;5;241m.\u001b[39mroll(cc, \u001b[38;5;241m-\u001b[39mn\u001b[38;5;241m/\u001b[39m\u001b[38;5;241m2\u001b[39m\u001b[38;5;241m+\u001b[39m\u001b[38;5;241m1\u001b[39m,axis\u001b[38;5;241m=\u001b[39m\u001b[38;5;241m1\u001b[39m)\n\u001b[1;32m      9\u001b[0m \u001b[38;5;28;01mreturn\u001b[39;00m cc\n",
      "File \u001b[0;32m/usr/local/lib/python3.11/site-packages/numpy/core/numeric.py:1231\u001b[0m, in \u001b[0;36mroll\u001b[0;34m(a, shift, axis)\u001b[0m\n\u001b[1;32m   1229\u001b[0m \u001b[38;5;28;01mfor\u001b[39;00m indices \u001b[38;5;129;01min\u001b[39;00m itertools\u001b[38;5;241m.\u001b[39mproduct(\u001b[38;5;241m*\u001b[39mrolls):\n\u001b[1;32m   1230\u001b[0m     arr_index, res_index \u001b[38;5;241m=\u001b[39m \u001b[38;5;28mzip\u001b[39m(\u001b[38;5;241m*\u001b[39mindices)\n\u001b[0;32m-> 1231\u001b[0m     result[res_index] \u001b[38;5;241m=\u001b[39m \u001b[43ma\u001b[49m\u001b[43m[\u001b[49m\u001b[43marr_index\u001b[49m\u001b[43m]\u001b[49m\n\u001b[1;32m   1233\u001b[0m \u001b[38;5;28;01mreturn\u001b[39;00m result\n",
      "\u001b[0;31mTypeError\u001b[0m: slice indices must be integers or None or have an __index__ method"
     ]
    }
   ],
   "source": [
    "fft_convolve2d(rhos[0], rhos[1])"
   ]
  },
  {
   "cell_type": "code",
   "execution_count": 33,
   "id": "0d576eaf-68db-4073-b3ac-ab4899a63c5e",
   "metadata": {},
   "outputs": [
    {
     "data": {
      "text/plain": [
       "array([[2, 2, 2, 0, 0, 2, 2, 1, 1, 2],\n",
       "       [1, 1, 2, 2, 0, 0, 2, 2, 1, 1],\n",
       "       [1, 1, 1, 0, 1, 1, 0, 2, 2, 1],\n",
       "       [2, 2, 2, 2, 0, 2, 2, 0, 2, 2],\n",
       "       [2, 0, 0, 0, 1, 1, 0, 1, 1, 2],\n",
       "       [0, 0, 1, 1, 0, 1, 1, 0, 0, 0],\n",
       "       [2, 1, 1, 0, 2, 2, 0, 0, 0, 2],\n",
       "       [2, 2, 0, 1, 1, 0, 1, 1, 2, 2],\n",
       "       [0, 0, 0, 0, 0, 2, 2, 1, 1, 0],\n",
       "       [0, 0, 1, 1, 1, 1, 1, 1, 0, 0]], dtype=object)"
      ]
     },
     "execution_count": 33,
     "metadata": {},
     "output_type": "execute_result"
    }
   ],
   "source": [
    "rhos[1]"
   ]
  },
  {
   "cell_type": "code",
   "execution_count": null,
   "id": "fd320b2f-467d-44d5-a7f4-88bbb99eb854",
   "metadata": {},
   "outputs": [],
   "source": []
  }
 ],
 "metadata": {
  "kernelspec": {
   "display_name": "Python 3 (ipykernel)",
   "language": "python",
   "name": "python3"
  },
  "language_info": {
   "codemirror_mode": {
    "name": "ipython",
    "version": 3
   },
   "file_extension": ".py",
   "mimetype": "text/x-python",
   "name": "python",
   "nbconvert_exporter": "python",
   "pygments_lexer": "ipython3",
   "version": "3.11.4"
  }
 },
 "nbformat": 4,
 "nbformat_minor": 5
}
